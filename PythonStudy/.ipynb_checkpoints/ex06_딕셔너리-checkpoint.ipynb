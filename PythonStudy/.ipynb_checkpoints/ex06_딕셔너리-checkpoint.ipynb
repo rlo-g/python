{
 "cells": [
  {
   "attachments": {
    "image.png": {
     "image/png": "[encoded data removed]"
    }
   },
   "cell_type": "markdown",
   "id": "94b0ecc5",
   "metadata": {},
   "source": [
    "## 딕셔너리\n",
    "\n",
    "![image.png](attachment:image.png)"
   ]
  },
  {
   "cell_type": "code",
   "execution_count": 5,
   "id": "2ceb9f77",
   "metadata": {
    "scrolled": true
   },
   "outputs": [
    {
     "name": "stdout",
     "output_type": "stream",
     "text": [
      "<class 'dict'>\n",
      "{'name': '햄미', 'pn': '010-1234-5678'}\n",
      "{1: '햄미', 2: '멈뭄미'}\n"
     ]
    }
   ],
   "source": [
    "# 딕셔너리 생성\n",
    "# 딕셔너리명 = {Key:value,  ,  ,}\n",
    "# key값은 변하지 않을 값, 동일한 key는 여러개 올 수 없다.\n",
    "\n",
    "a = {}\n",
    "b = {'name':'햄미', 'pn':'010-1234-5678'}\n",
    "c = {1:'햄미', 2:'멈뭄미'}\n",
    "\n",
    "print(type(a))\n",
    "print(b)\n",
    "print(c)"
   ]
  },
  {
   "cell_type": "code",
   "execution_count": 9,
   "id": "5cddfb00",
   "metadata": {},
   "outputs": [
    {
     "name": "stdout",
     "output_type": "stream",
     "text": [
      "{'name': '고먐미', 'age': 3, 'phone': '010-1234-5678', 'birth': '0604'}\n"
     ]
    }
   ],
   "source": [
    "# 딕셔너리 값 추가\n",
    "dic1 = {'name':'멈뭄미', 'age':3, 'phone':'010-1234-5678'}\n",
    "dic1['birth'] = '0604'\n",
    "\n",
    "# 딕셔너리 값 변경\n",
    "dic1['name'] = '고먐미'  ## 기존의 키 값에 새로운 내용 대입\n",
    "print(dic1)"
   ]
  },
  {
   "cell_type": "code",
   "execution_count": 15,
   "id": "c627d1ee",
   "metadata": {},
   "outputs": [
    {
     "name": "stdout",
     "output_type": "stream",
     "text": [
      "고먐미\n"
     ]
    }
   ],
   "source": [
    "# 딕셔너리 값 가져오기\n",
    "print(dic1['name'])"
   ]
  },
  {
   "cell_type": "code",
   "execution_count": 21,
   "id": "4a8d5277",
   "metadata": {},
   "outputs": [
    {
     "name": "stdout",
     "output_type": "stream",
     "text": [
      "None\n"
     ]
    }
   ],
   "source": [
    "# 딕셔너리 값 가져오기2\n",
    "# 딕셔너리명.get(key)\n",
    "dic1.get('age')   \n",
    "\n",
    " # 없는 키 값을 불러올 때 에러가 나지 않음...\n",
    "a = dic1.get('addr')\n",
    "print(a)"
   ]
  },
  {
   "cell_type": "code",
   "execution_count": 24,
   "id": "0e71fd99",
   "metadata": {},
   "outputs": [
    {
     "name": "stdout",
     "output_type": "stream",
     "text": [
      "dict_keys(['name', 'age', 'phone', 'birth'])\n",
      "['name', 'age', 'phone', 'birth']\n"
     ]
    }
   ],
   "source": [
    "# 딕셔너리 key만 가져오기\n",
    "print(dic1.keys())\n",
    "print(list(dic1.keys()))   ## 키값들을 리스트로 형변환"
   ]
  },
  {
   "cell_type": "code",
   "execution_count": 27,
   "id": "3cf73711",
   "metadata": {},
   "outputs": [
    {
     "name": "stdout",
     "output_type": "stream",
     "text": [
      "dict_values(['고먐미', 3, '010-1234-5678', '0604'])\n",
      "['고먐미', 3, '010-1234-5678', '0604']\n"
     ]
    }
   ],
   "source": [
    "# 딕셔너리 value만 가져오기\n",
    "print(dic1.values())\n",
    "print(list(dic1.values()))"
   ]
  },
  {
   "cell_type": "code",
   "execution_count": 28,
   "id": "34ed77d4",
   "metadata": {},
   "outputs": [
    {
     "name": "stdout",
     "output_type": "stream",
     "text": [
      "dict_items([('name', '고먐미'), ('age', 3), ('phone', '010-1234-5678'), ('birth', '0604')])\n"
     ]
    }
   ],
   "source": [
    "# 딕셔너리 key, value 동시에 가져오기\n",
    "# 리스트 형태 안에 key, value가 한 쌍으로 묶여 튜플 타입으로\n",
    "\n",
    "print(dic1.items())"
   ]
  },
  {
   "cell_type": "code",
   "execution_count": 14,
   "id": "f091c3cd",
   "metadata": {},
   "outputs": [
    {
     "name": "stdout",
     "output_type": "stream",
     "text": [
      "[{'name': '안', 'age': 1}, {'name': '녕', 'age': 2}, {'name': '하', 'age': 3}]\n",
      "안\n"
     ]
    }
   ],
   "source": [
    "addr = [{'name':'안', 'age':1}, {'name':'녕', 'age':2}]\n",
    "addr.append({'name':'하', 'age':3})\n",
    "print(addr)\n",
    "print(addr[0]['name'])\n"
   ]
  },
  {
   "cell_type": "code",
   "execution_count": 31,
   "id": "c92f4745",
   "metadata": {},
   "outputs": [
    {
     "data": {
      "text/plain": [
       "{'phone': '010-1234-5678', 'birth': '0604'}"
      ]
     },
     "execution_count": 31,
     "metadata": {},
     "output_type": "execute_result"
    }
   ],
   "source": [
    "# 값 삭제하기\n",
    "# del 딕셔너리명[key]\n",
    "\n",
    "del dic1['name']\n",
    "dic1"
   ]
  },
  {
   "cell_type": "code",
   "execution_count": 35,
   "id": "0da92a64",
   "metadata": {},
   "outputs": [
    {
     "data": {
      "text/plain": [
       "{}"
      ]
     },
     "execution_count": 35,
     "metadata": {},
     "output_type": "execute_result"
    }
   ],
   "source": [
    "# 전체 삭제\n",
    "dic1.clear()\n",
    "dic1"
   ]
  },
  {
   "cell_type": "code",
   "execution_count": 39,
   "id": "11c25616",
   "metadata": {},
   "outputs": [
    {
     "name": "stdout",
     "output_type": "stream",
     "text": [
      "True\n",
      "False\n",
      "False\n"
     ]
    }
   ],
   "source": [
    "# 딕셔너리를 멤버 연산자와 같이 사용하기\n",
    "# 딕셔너리 안에 득정 key 값이 포함되어있는지 확인\n",
    "dic2 = {'name':'멈뭄미', 'age':3, 'phone':'010-1234-5678'}\n",
    "\n",
    "print('name' in dic2)\n",
    "print('birth' in dic2)\n",
    "print(3 in dic2) ## 딕셔너리의 멤버연산자는 key 값에만 적용된다"
   ]
  },
  {
   "cell_type": "code",
   "execution_count": 40,
   "id": "b350f4e8",
   "metadata": {},
   "outputs": [
    {
     "name": "stdout",
     "output_type": "stream",
     "text": [
      "멈뭄미\n",
      "3\n",
      "010-1234-5678\n"
     ]
    }
   ],
   "source": [
    "for value in dic2.values():\n",
    "    print(value)"
   ]
  },
  {
   "cell_type": "code",
   "execution_count": 42,
   "id": "169e58aa",
   "metadata": {},
   "outputs": [
    {
     "data": {
      "text/plain": [
       "True"
      ]
     },
     "execution_count": 42,
     "metadata": {},
     "output_type": "execute_result"
    }
   ],
   "source": [
    "3 in dic2.values()"
   ]
  },
  {
   "cell_type": "code",
   "execution_count": null,
   "id": "8d22a87f",
   "metadata": {},
   "outputs": [],
   "source": []
  },
  {
   "cell_type": "code",
   "execution_count": null,
   "id": "05201e5d",
   "metadata": {},
   "outputs": [],
   "source": []
  }
 ],
 "metadata": {
  "kernelspec": {
   "display_name": "Python 3 (ipykernel)",
   "language": "python",
   "name": "python3"
  },
  "language_info": {
   "codemirror_mode": {
    "name": "ipython",
    "version": 3
   },
   "file_extension": ".py",
   "mimetype": "text/x-python",
   "name": "python",
   "nbconvert_exporter": "python",
   "pygments_lexer": "ipython3",
   "version": "3.10.9"
  }
 },
 "nbformat": 4,
 "nbformat_minor": 5
}
